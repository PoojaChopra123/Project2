{
 "cells": [
  {
   "cell_type": "code",
   "execution_count": 1,
   "metadata": {},
   "outputs": [],
   "source": [
    "import pandas as pd\n",
    "import csv, os\n",
    "import json\n",
    "import requests\n",
    "from pprint import pprint"
   ]
  },
  {
   "cell_type": "code",
   "execution_count": 2,
   "metadata": {
    "scrolled": true
   },
   "outputs": [],
   "source": [
    "open_json = open(\"static/yem_govern.json\", 'r', encoding=\"utf-8\").read()"
   ]
  },
  {
   "cell_type": "code",
   "execution_count": 3,
   "metadata": {},
   "outputs": [],
   "source": [
    "yemen_governs = json.loads(open_json)"
   ]
  },
  {
   "cell_type": "code",
   "execution_count": 4,
   "metadata": {
    "scrolled": true
   },
   "outputs": [],
   "source": [
    "yem_chol = \"yemen_cholera.csv\"\n",
    "yem_chol_df = pd.read_csv(yem_chol)"
   ]
  },
  {
   "cell_type": "code",
   "execution_count": 5,
   "metadata": {},
   "outputs": [],
   "source": [
    "yem_chol_df[\"Date\"] = pd.to_datetime(yem_chol_df[\"Date\"])"
   ]
  },
  {
   "cell_type": "code",
   "execution_count": 6,
   "metadata": {},
   "outputs": [
    {
     "data": {
      "text/plain": [
       "103965"
      ]
     },
     "execution_count": 6,
     "metadata": {},
     "output_type": "execute_result"
    }
   ],
   "source": [
    "state_mask = yem_chol_df[\"Governorate\"] == \"Amran\"\n",
    "date_mask = yem_chol_df[state_mask][\"Date\"] == yem_chol_df[state_mask][\"Date\"].max()\n",
    "int(yem_chol_df[state_mask & date_mask][\"Cases\"][0])"
   ]
  },
  {
   "cell_type": "code",
   "execution_count": 9,
   "metadata": {
    "scrolled": true
   },
   "outputs": [
    {
     "name": "stdout",
     "output_type": "stream",
     "text": [
      "67129.0\n",
      "28243.0\n",
      "103184.0\n",
      "30568.0\n",
      "63696.0\n",
      "47136.0\n",
      "16018.0\n",
      "121287.0\n",
      "155908.0\n",
      "103214.0\n",
      "1399.0\n",
      "10706.0\n",
      "76250.0\n",
      "20966.0\n",
      "24342.0\n",
      "7288.0\n",
      "62887.0\n",
      "1168.0\n",
      "103965.0\n",
      "17841.0\n"
     ]
    }
   ],
   "source": [
    "for i, features in enumerate(yemen_governs[\"features\"]):\n",
    "    \n",
    "    properties = features[\"properties\"]\n",
    "    \n",
    "    state = properties['name_en']\n",
    "\n",
    "    state_mask = yem_chol_df[\"Governorate\"] == state\n",
    "    \n",
    "    date_mask = yem_chol_df[state_mask][\"Date\"] == yem_chol_df[state_mask][\"Date\"].max()\n",
    "    \n",
    "    try:\n",
    "        cases = yem_chol_df[state_mask & date_mask].reset_index()[\"Cases\"].astype(\"float\")[0]\n",
    "        print(cases)\n",
    "\n",
    "    except:\n",
    "        pass\n",
    "    \n",
    "    # simplified way to do the same as above\n",
    "    yemen_governs[\"features\"][i][\"properties\"][\"cases\"] = cases"
   ]
  },
  {
   "cell_type": "code",
   "execution_count": 10,
   "metadata": {
    "scrolled": true
   },
   "outputs": [],
   "source": [
    "with open(\"static/yem_govern.json\", 'w', encoding=\"utf-8\") as write_file:\n",
    "    json.dump(yemen_governs, write_file)"
   ]
  },
  {
   "cell_type": "code",
   "execution_count": null,
   "metadata": {},
   "outputs": [],
   "source": []
  }
 ],
 "metadata": {
  "kernelspec": {
   "display_name": "Python 3",
   "language": "python",
   "name": "python3"
  },
  "language_info": {
   "codemirror_mode": {
    "name": "ipython",
    "version": 3
   },
   "file_extension": ".py",
   "mimetype": "text/x-python",
   "name": "python",
   "nbconvert_exporter": "python",
   "pygments_lexer": "ipython3",
   "version": "3.6.5"
  }
 },
 "nbformat": 4,
 "nbformat_minor": 2
}

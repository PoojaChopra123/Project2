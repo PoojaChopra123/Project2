{
 "cells": [
  {
   "cell_type": "code",
   "execution_count": 1,
   "metadata": {},
   "outputs": [],
   "source": [
    "import tweepy\n",
    "import numpy as np\n",
    "\n",
    "\n",
    "# Twitter API Keys\n",
    "from config import (consumer_key,\n",
    "                    consumer_secret,\n",
    "                    access_token,\n",
    "                    access_token_secret)\n",
    "\n",
    "# Setup Tweepy API Authentication\n",
    "auth = tweepy.OAuthHandler(consumer_key, consumer_secret)\n",
    "auth.set_access_token(access_token, access_token_secret)\n",
    "api = tweepy.API(auth, parser=tweepy.parsers.JSONParser())"
   ]
  },
  {
   "cell_type": "code",
   "execution_count": 23,
   "metadata": {},
   "outputs": [],
   "source": [
    "news_source = [\"FoxNews\", \"CNN\", \"BBCWorld\", \"CBSNews\", \"nytimes\"]\n",
    "\n",
    "counter = 0 \n",
    "for x in range(100):\n",
    "    \n",
    "    for source in news_source:\n",
    "        \n",
    "        tweets = api.user_timeline(source, page=x)\n",
    "        \n",
    "        for tweet in tweets:\n",
    "            \n",
    "            tweet_text = tweet[\"text\"]\n",
    "            \n",
    "            for word in tweet_text.split():\n",
    "                \n",
    "                if word == \"Trump\":\n",
    "#                     print(tweet_text)\n",
    "                    counter = counter + 1\n",
    "                \n",
    "            \n",
    "            \n",
    "        \n",
    "        "
   ]
  },
  {
   "cell_type": "code",
   "execution_count": 24,
   "metadata": {},
   "outputs": [
    {
     "data": {
      "text/plain": [
       "699"
      ]
     },
     "execution_count": 24,
     "metadata": {},
     "output_type": "execute_result"
    }
   ],
   "source": [
    "counter"
   ]
  },
  {
   "cell_type": "code",
   "execution_count": 26,
   "metadata": {},
   "outputs": [],
   "source": [
    "news_source = [\"FoxNews\", \"CNN\", \"BBCWorld\", \"CBSNews\", \"nytimes\"]\n",
    "\n",
    "counter = 0 \n",
    "for x in range(100):\n",
    "    \n",
    "    for source in news_source:\n",
    "        \n",
    "        tweets = api.user_timeline(source, page=x)\n",
    "        \n",
    "        for tweet in tweets:\n",
    "            \n",
    "            tweet_text = tweet[\"text\"]\n",
    "            \n",
    "            for word in tweet_text.split():\n",
    "                \n",
    "                if word == \"Yemen\":\n",
    "#                     print(tweet_text)\n",
    "                    counter = counter + 1\n",
    "                \n",
    "            \n",
    "      "
   ]
  },
  {
   "cell_type": "code",
   "execution_count": 27,
   "metadata": {},
   "outputs": [
    {
     "data": {
      "text/plain": [
       "25"
      ]
     },
     "execution_count": 27,
     "metadata": {},
     "output_type": "execute_result"
    }
   ],
   "source": [
    "counter"
   ]
  },
  {
   "cell_type": "code",
   "execution_count": 29,
   "metadata": {},
   "outputs": [],
   "source": [
    "news_source = [\"FoxNews\", \"CNN\", \"BBCWorld\", \"CBSNews\", \"nytimes\"]\n",
    "\n",
    "counter = 0 \n",
    "for x in range(100):\n",
    "    \n",
    "    for source in news_source:\n",
    "        \n",
    "        tweets = api.user_timeline(source, page=x)\n",
    "        \n",
    "        for tweet in tweets:\n",
    "            \n",
    "            tweet_text = tweet[\"text\"]\n",
    "            \n",
    "            for word in tweet_text.split():\n",
    "                \n",
    "                if word == \"Syria\":\n",
    "#                     print(tweet_text)\n",
    "                    counter = counter + 1\n",
    "                \n",
    "            \n",
    "      "
   ]
  },
  {
   "cell_type": "code",
   "execution_count": 30,
   "metadata": {},
   "outputs": [
    {
     "data": {
      "text/plain": [
       "17"
      ]
     },
     "execution_count": 30,
     "metadata": {},
     "output_type": "execute_result"
    }
   ],
   "source": [
    "counter\n",
    "\n"
   ]
  },
  {
   "cell_type": "code",
   "execution_count": null,
   "metadata": {},
   "outputs": [],
   "source": []
  }
 ],
 "metadata": {
  "kernelspec": {
   "display_name": "Python 3",
   "language": "python",
   "name": "python3"
  },
  "language_info": {
   "codemirror_mode": {
    "name": "ipython",
    "version": 3
   },
   "file_extension": ".py",
   "mimetype": "text/x-python",
   "name": "python",
   "nbconvert_exporter": "python",
   "pygments_lexer": "ipython3",
   "version": "3.6.5"
  }
 },
 "nbformat": 4,
 "nbformat_minor": 2
}
